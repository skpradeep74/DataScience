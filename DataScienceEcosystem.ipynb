{
 "cells": [
  {
   "cell_type": "markdown",
   "id": "1c16cec6-611f-496f-8458-a4ed314dc334",
   "metadata": {},
   "source": [
    "## Data Science Tools and Ecosystem"
   ]
  },
  {
   "cell_type": "markdown",
   "id": "62b6a4ac-5986-4873-8118-660356d397e4",
   "metadata": {},
   "source": [
    "In this notebook, Data Science Tools and Ecosystem are summarized"
   ]
  },
  {
   "cell_type": "markdown",
   "id": "91d9b46d-5a9f-4813-aab3-d452170d0b6f",
   "metadata": {},
   "source": [
    "***Objectives:***"
   ]
  },
  {
   "cell_type": "markdown",
   "id": "d49ca99d-9de4-48c0-9116-e7ab3be6b9a9",
   "metadata": {},
   "source": [
    "Some of the popular languages that Data Scientists use are:\n",
    "1. C\n",
    "2. C++\n",
    "3. Python\n",
    "4. Java"
   ]
  },
  {
   "cell_type": "markdown",
   "id": "67b42341-f672-4186-83a8-1a747920176d",
   "metadata": {
    "tags": []
   },
   "source": [
    "Some of the popular languages that Data Scientists use are:\n",
    "1. pandas\n",
    "2. NumPy\n",
    "3. Tensorflow"
   ]
  },
  {
   "cell_type": "markdown",
   "id": "ad6a51cf-7cf5-4d30-ad73-996402aef44c",
   "metadata": {
    "tags": []
   },
   "source": [
    "## Data Science Tools"
   ]
  },
  {
   "cell_type": "markdown",
   "id": "cdbb4f72-26fc-41b3-aa5c-46bfa12ad404",
   "metadata": {},
   "source": [
    "|Data Science tools|\n",
    "--------------------\n",
    "|Jupyter Notebook|\n",
    "| v Studio |\n",
    "|Intellij |\n"
   ]
  },
  {
   "cell_type": "markdown",
   "id": "68778088-0e8c-41d7-9486-87534098610d",
   "metadata": {},
   "source": [
    "### Below are a few examples of evaluating arithmetic expressions in Python"
   ]
  },
  {
   "cell_type": "code",
   "execution_count": 3,
   "id": "1309da70-e440-4c02-ac12-0a681312793d",
   "metadata": {
    "tags": []
   },
   "outputs": [
    {
     "data": {
      "text/plain": [
       "17"
      ]
     },
     "execution_count": 3,
     "metadata": {},
     "output_type": "execute_result"
    }
   ],
   "source": [
    "#his a simple arithmetic expression to mutiply then add integers\n",
    "(3*4)+5"
   ]
  },
  {
   "cell_type": "code",
   "execution_count": 6,
   "id": "27ee74d4-3f85-404a-abe4-39192c14e379",
   "metadata": {
    "tags": []
   },
   "outputs": [
    {
     "name": "stdout",
     "output_type": "stream",
     "text": [
      "3.3333333333333335\n"
     ]
    }
   ],
   "source": [
    "#This will convert 200 minutes to hours by diving by 60\n",
    "minutes= 200\n",
    "hours = 200/60\n",
    "print (hours)"
   ]
  },
  {
   "cell_type": "markdown",
   "id": "b0e454f3-f8b2-4d1b-8a88-224a4d441423",
   "metadata": {
    "tags": []
   },
   "source": [
    "## Author ##\n",
    "S K Pradeep"
   ]
  },
  {
   "cell_type": "code",
   "execution_count": null,
   "id": "0baa15e1-a380-443d-b304-486fd12c4753",
   "metadata": {},
   "outputs": [],
   "source": []
  }
 ],
 "metadata": {
  "kernelspec": {
   "display_name": "Python",
   "language": "python",
   "name": "conda-env-python-py"
  },
  "language_info": {
   "codemirror_mode": {
    "name": "ipython",
    "version": 3
   },
   "file_extension": ".py",
   "mimetype": "text/x-python",
   "name": "python",
   "nbconvert_exporter": "python",
   "pygments_lexer": "ipython3",
   "version": "3.7.12"
  }
 },
 "nbformat": 4,
 "nbformat_minor": 5
}
